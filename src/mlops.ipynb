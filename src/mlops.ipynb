{
 "cells": [
  {
   "attachments": {},
   "cell_type": "markdown",
   "metadata": {},
   "source": [
    "# MLOps in Azure\n",
    "\n",
    "A notebook version of [README.md](../README.md)"
   ]
  },
  {
   "attachments": {},
   "cell_type": "markdown",
   "metadata": {},
   "source": [
    "## Prerequisites\n",
    "\n",
    "* Subscription\n",
    "* Resource group `learn`\n",
    "* ML workspace `mlops`\n",
    "* Compute `cheapest-instance` and `cheapest-cluster`\n",
    "* VS Code extension [Azure Machine Learning](https://marketplace.visualstudio.com/items?itemName=ms-toolsai.vscode-ai) to set a default ML workspace\n",
    "* [`azure-cli`](https://learn.microsoft.com/en-us/cli/azure/install-azure-cli)"
   ]
  },
  {
   "attachments": {},
   "cell_type": "markdown",
   "metadata": {},
   "source": [
    "## 1: Create an ML job"
   ]
  },
  {
   "cell_type": "code",
   "execution_count": null,
   "metadata": {},
   "outputs": [],
   "source": [
    "!az ml job create --file job.yml"
   ]
  },
  {
   "attachments": {},
   "cell_type": "markdown",
   "metadata": {},
   "source": [
    "## 2: Use GH Actions for model training"
   ]
  },
  {
   "attachments": {},
   "cell_type": "markdown",
   "metadata": {},
   "source": [
    "### 2.1: Create Service Principal"
   ]
  },
  {
   "cell_type": "markdown",
   "metadata": {},
   "source": []
  },
  {
   "cell_type": "code",
   "execution_count": null,
   "metadata": {},
   "outputs": [],
   "source": [
    "!az ad sp create-for-rbac \\\n",
    "    --name github-aml-sp \\\n",
    "    --role contributor \\\n",
    "    --scopes /subscriptions/b42b69cf-27c0-4ee2-99a0-a718ebd91945/resourceGroups/learn/providers/Microsoft.MachineLearningServices/workspaces/mlops \\\n",
    "    --sdk-auth"
   ]
  },
  {
   "attachments": {},
   "cell_type": "markdown",
   "metadata": {},
   "source": [
    "> IMPORTANT: do not commit the output of this command!"
   ]
  },
  {
   "attachments": {},
   "cell_type": "markdown",
   "metadata": {},
   "source": [
    "### 2.2: Create GitHub Action Secret\n",
    "\n",
    "* [mslearn-mlops settings] > Secrets and variables > Actions > New repository secret\n",
    "* Name: **AZURE_CREDENTIALS**\n",
    "* Secret: [**\\<output from the previous command\\>**](#2.1:-create-service-principal)"
   ]
  },
  {
   "attachments": {},
   "cell_type": "markdown",
   "metadata": {},
   "source": [
    "\n",
    "### 2.3: Create Compute cluster\n",
    "\n",
    "TODO: create with `azure-cli`, right now check the [README](../README.md#23-create-compute-cluster)"
   ]
  },
  {
   "cell_type": "markdown",
   "metadata": {},
   "source": [
    "\n",
    "### 2.4: Run GH Action manually\n",
    "\n",
    "* [mslearn-mlops action](https://github.com/ficinator/mslearn-mlops/actions/workflows/02-manual-trigger-job.yml) > Run workflow > hopefully it runs"
   ]
  },
  {
   "attachments": {},
   "cell_type": "markdown",
   "metadata": {},
   "source": []
  },
  {
   "attachments": {},
   "cell_type": "markdown",
   "metadata": {},
   "source": [
    "## 3: Trigger workflow on PR"
   ]
  },
  {
   "cell_type": "code",
   "execution_count": null,
   "metadata": {},
   "outputs": [],
   "source": [
    "%%writefile ../.github/workflows/03-trigger-ml-job-pr.yml\n",
    "name: Trigger AML job on PR\n",
    "\n",
    "on: [pull_request]\n",
    "\n",
    "jobs:\n",
    "  deploy:\n",
    "    runs-on: ubuntu-latest\n",
    "    steps:\n",
    "    - name: Check out repo\n",
    "      uses: actions/checkout@main\n",
    "    - name: Azure login\n",
    "      uses: azure/login@v1\n",
    "      with:\n",
    "        creds: ${{secrets.AZURE_CREDENTIALS}}\n",
    "    - name: Set up azure-cli\n",
    "      run: |\n",
    "        az extension add -n ml -y\n",
    "        az configure --defaults workspace=mlops group=learn\n",
    "    - name: Create endpoint\n",
    "      run: az ml job create --file job.yml"
   ]
  },
  {
   "cell_type": "markdown",
   "metadata": {},
   "source": []
  }
 ],
 "metadata": {
  "kernelspec": {
   "display_name": ".venv",
   "language": "python",
   "name": "python3"
  },
  "language_info": {
   "codemirror_mode": {
    "name": "ipython",
    "version": 3
   },
   "file_extension": ".py",
   "mimetype": "text/x-python",
   "name": "python",
   "nbconvert_exporter": "python",
   "pygments_lexer": "ipython3",
   "version": "3.10.6"
  },
  "orig_nbformat": 4,
  "vscode": {
   "interpreter": {
    "hash": "22508f1159233121b17e46736bbaf627a771da9950b6bc0273c6b30a2cf8e4ec"
   }
  }
 },
 "nbformat": 4,
 "nbformat_minor": 2
}
