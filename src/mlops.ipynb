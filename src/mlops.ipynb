{
 "cells": [
  {
   "attachments": {},
   "cell_type": "markdown",
   "metadata": {},
   "source": [
    "# MLOps in Azure\n",
    "\n",
    "A notebook version of [README.md](../README.md)"
   ]
  },
  {
   "attachments": {},
   "cell_type": "markdown",
   "metadata": {},
   "source": [
    "## Prerequisites\n",
    "\n",
    "* Subscription\n",
    "* Resource group `learn`\n",
    "* ML workspace `mlops`\n",
    "* Compute `cheapest-instance` and `cheapest-cluster`\n",
    "* VS Code extension [Azure Machine Learning](https://marketplace.visualstudio.com/items?itemName=ms-toolsai.vscode-ai) to set a default ML workspace\n",
    "* [`azure-cli`](https://learn.microsoft.com/en-us/cli/azure/install-azure-cli)"
   ]
  },
  {
   "attachments": {},
   "cell_type": "markdown",
   "metadata": {},
   "source": [
    "## 1: Create an ML job"
   ]
  },
  {
   "cell_type": "code",
   "execution_count": 1,
   "metadata": {},
   "outputs": [
    {
     "name": "stdout",
     "output_type": "stream",
     "text": [
      "\u001b[32mUploading model (0.0 MBs): 100%|██████████| 4219/4219 [00:00<00:00, 5196.09it/s]\u001b[0m\n",
      "\u001b[39m\n",
      "\n",
      "{\n",
      "  \"code\": \"azureml:/subscriptions/b42b69cf-27c0-4ee2-99a0-a718ebd91945/resourceGroups/learn/providers/Microsoft.MachineLearningServices/workspaces/mlops/codes/0b9b12e1-edda-4b0f-b836-3414ba523e56/versions/1\",\n",
      "  \"command\": \"python train.py --training_data ${{inputs.training_data}} --reg_rate ${{inputs.reg_rate}}\",\n",
      "  \"compute\": \"azureml:cheapest-cluster\",\n",
      "  \"creation_context\": {\n",
      "    \"created_at\": \"2023-02-22T13:29:36.291689+00:00\",\n",
      "    \"created_by\": \"Filip Povolný\",\n",
      "    \"created_by_type\": \"User\"\n",
      "  },\n",
      "  \"description\": \"Train a classification model on diabetes data using a local folder as input.\",\n",
      "  \"display_name\": \"helpful_drawer_flpv2hz63t\",\n",
      "  \"environment\": \"azureml:AzureML-sklearn-0.24-ubuntu18.04-py37-cpu@latest\",\n",
      "  \"environment_variables\": {},\n",
      "  \"experiment_name\": \"diabetes-data-example\",\n",
      "  \"id\": \"azureml:/subscriptions/b42b69cf-27c0-4ee2-99a0-a718ebd91945/resourceGroups/learn/providers/Microsoft.MachineLearningServices/workspaces/mlops/jobs/helpful_drawer_flpv2hz63t\",\n",
      "  \"inputs\": {\n",
      "    \"reg_rate\": \"0.01\",\n",
      "    \"training_data\": {\n",
      "      \"mode\": \"ro_mount\",\n",
      "      \"path\": \"azureml://datastores/workspaceblobstore/paths/LocalUpload/534e63694838be564a42c83cb065f8fd/data/\",\n",
      "      \"type\": \"uri_folder\"\n",
      "    }\n",
      "  },\n",
      "  \"name\": \"helpful_drawer_flpv2hz63t\",\n",
      "  \"outputs\": {\n",
      "    \"default\": {\n",
      "      \"mode\": \"rw_mount\",\n",
      "      \"path\": \"azureml://datastores/workspaceartifactstore/ExperimentRun/dcid.helpful_drawer_flpv2hz63t\",\n",
      "      \"type\": \"uri_folder\"\n",
      "    }\n",
      "  },\n",
      "  \"parameters\": {},\n",
      "  \"properties\": {\n",
      "    \"ContentSnapshotId\": \"17cc6798-c1bb-44f7-92e2-cfa281eaa739\",\n",
      "    \"_azureml.ComputeTargetType\": \"amlctrain\",\n",
      "    \"azureml.git.dirty\": \"True\",\n",
      "    \"mlflow.source.git.branch\": \"main\",\n",
      "    \"mlflow.source.git.commit\": \"7e3cc8516ef86c44ab6e5868b183689de0e55015\",\n",
      "    \"mlflow.source.git.repoURL\": \"git@github.com:ficinator/mslearn-mlops.git\"\n",
      "  },\n",
      "  \"resourceGroup\": \"learn\",\n",
      "  \"resources\": {\n",
      "    \"instance_count\": 1,\n",
      "    \"properties\": {},\n",
      "    \"shm_size\": \"2g\"\n",
      "  },\n",
      "  \"services\": {\n",
      "    \"Studio\": {\n",
      "      \"endpoint\": \"https://ml.azure.com/runs/helpful_drawer_flpv2hz63t?wsid=/subscriptions/b42b69cf-27c0-4ee2-99a0-a718ebd91945/resourcegroups/learn/workspaces/mlops&tid=6571d690-b42e-4b19-90e7-d85b945aa165\",\n",
      "      \"job_service_type\": \"Studio\"\n",
      "    },\n",
      "    \"Tracking\": {\n",
      "      \"endpoint\": \"azureml://eastus2.api.azureml.ms/mlflow/v1.0/subscriptions/b42b69cf-27c0-4ee2-99a0-a718ebd91945/resourceGroups/learn/providers/Microsoft.MachineLearningServices/workspaces/mlops?\",\n",
      "      \"job_service_type\": \"Tracking\"\n",
      "    }\n",
      "  },\n",
      "  \"status\": \"Starting\",\n",
      "  \"tags\": {},\n",
      "  \"type\": \"command\"\n",
      "}\n",
      "\u001b[0m"
     ]
    }
   ],
   "source": [
    "!az ml job create --file job.yml"
   ]
  },
  {
   "attachments": {},
   "cell_type": "markdown",
   "metadata": {},
   "source": [
    "## 2: Use GH Actions for model training"
   ]
  },
  {
   "attachments": {},
   "cell_type": "markdown",
   "metadata": {},
   "source": [
    "### 2.1: Create Service Principal"
   ]
  },
  {
   "cell_type": "code",
   "execution_count": null,
   "metadata": {},
   "outputs": [],
   "source": [
    "!az ad sp create-for-rbac \\\n",
    "    --name github-aml-sp \\\n",
    "    --role contributor \\\n",
    "    --scopes /subscriptions/b42b69cf-27c0-4ee2-99a0-a718ebd91945/resourceGroups/learn/providers/Microsoft.MachineLearningServices/workspaces/mlops \\\n",
    "    --sdk-auth"
   ]
  },
  {
   "attachments": {},
   "cell_type": "markdown",
   "metadata": {},
   "source": [
    "### 2.2: Create GitHub Action Secret\n",
    "\n",
    "* [mslearn-mlops settings] > Secrets and variables > Actions > New repository secret\n",
    "* Name: **AZURE_CREDENTIALS**\n",
    "* Secret: [**\\<output from the previous command\\>**](#2.1:-create-service-principal)"
   ]
  },
  {
   "attachments": {},
   "cell_type": "markdown",
   "metadata": {},
   "source": [
    "\n",
    "### 2.3: Create Compute cluster\n",
    "\n",
    "TODO: create with `azure-cli`, right now check the [README](../README.md#23-create-compute-cluster)"
   ]
  },
  {
   "cell_type": "markdown",
   "metadata": {},
   "source": [
    "\n",
    "### 2.4: Run GH Action manually\n",
    "\n",
    "* [mslearn-mlops action](https://github.com/ficinator/mslearn-mlops/actions/workflows/02-manual-trigger-job.yml) > Run workflow > hopefully it runs"
   ]
  },
  {
   "attachments": {},
   "cell_type": "markdown",
   "metadata": {},
   "source": []
  },
  {
   "attachments": {},
   "cell_type": "markdown",
   "metadata": {},
   "source": [
    "## 3: Trigger workflow on PR"
   ]
  },
  {
   "cell_type": "code",
   "execution_count": 4,
   "metadata": {},
   "outputs": [
    {
     "name": "stdout",
     "output_type": "stream",
     "text": [
      "Writing ../.github/workflows/03-pr-trigger-ml-job.yml\n"
     ]
    }
   ],
   "source": [
    "%%writefile ../.github/workflows/03-trigger-ml-job-pr.yml\n",
    "name: Trigger AML job on PR\n",
    "\n",
    "on: [pull_request]\n",
    "\n",
    "jobs:\n",
    "  deploy:\n",
    "    runs-on: ubuntu-latest\n",
    "    steps:\n",
    "    - name: Check out repo\n",
    "      uses: actions/checkout@main\n",
    "    - name: Azure login\n",
    "      uses: azure/login@v1\n",
    "      with:\n",
    "        creds: ${{secrets.AZURE_CREDENTIALS}}\n",
    "    - name: Set up azure-cli\n",
    "      run: |\n",
    "        az extension add -n ml -y\n",
    "        az configure --defaults workspace=mlops group=learn\n",
    "    - name: Create endpoint\n",
    "      run: az ml job create --file job.yml"
   ]
  },
  {
   "cell_type": "markdown",
   "metadata": {},
   "source": []
  }
 ],
 "metadata": {
  "kernelspec": {
   "display_name": ".venv",
   "language": "python",
   "name": "python3"
  },
  "language_info": {
   "codemirror_mode": {
    "name": "ipython",
    "version": 3
   },
   "file_extension": ".py",
   "mimetype": "text/x-python",
   "name": "python",
   "nbconvert_exporter": "python",
   "pygments_lexer": "ipython3",
   "version": "3.10.6"
  },
  "orig_nbformat": 4,
  "vscode": {
   "interpreter": {
    "hash": "22508f1159233121b17e46736bbaf627a771da9950b6bc0273c6b30a2cf8e4ec"
   }
  }
 },
 "nbformat": 4,
 "nbformat_minor": 2
}
