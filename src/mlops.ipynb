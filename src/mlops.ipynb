{
 "cells": [
  {
   "attachments": {},
   "cell_type": "markdown",
   "metadata": {},
   "source": [
    "# MLOps in Azure\n",
    "\n",
    "A notebook version of [README.md](../README.md)"
   ]
  },
  {
   "attachments": {},
   "cell_type": "markdown",
   "metadata": {},
   "source": [
    "## Prerequisites\n",
    "\n",
    "* Subscription\n",
    "* Resource group `learn`\n",
    "* ML workspace `mlops` (and `learn-prod`)\n",
    "* Compute `cheapest-instance` and `cheapest-cluster`\n",
    "* [`azure-cli`](https://learn.microsoft.com/en-us/cli/azure/install-azure-cli)\n",
    "* Configure default resource group and ML workspace"
   ]
  },
  {
   "cell_type": "code",
   "execution_count": null,
   "metadata": {},
   "outputs": [],
   "source": [
    "!az configure --defaults workspace=mlops group=learn"
   ]
  },
  {
   "attachments": {},
   "cell_type": "markdown",
   "metadata": {},
   "source": [
    "## 0: Create Azure resources"
   ]
  },
  {
   "attachments": {},
   "cell_type": "markdown",
   "metadata": {},
   "source": [
    "### 0.1: Create Azure ML workspace\n",
    "\n",
    "TODO: add `azure-cli` command or check the corresponding [section in README](../README.md#01-create-azure-ml-workspace)."
   ]
  },
  {
   "attachments": {},
   "cell_type": "markdown",
   "metadata": {},
   "source": [
    "### 0.2: Create Compute instance\n",
    "\n",
    "TODO: add `azure-cli` command or check the corresponding [section in README](../README.md#02-create-compute-instance)."
   ]
  },
  {
   "attachments": {},
   "cell_type": "markdown",
   "metadata": {},
   "source": [
    "### 0.3: Create Data asset"
   ]
  },
  {
   "cell_type": "code",
   "execution_count": null,
   "metadata": {},
   "outputs": [],
   "source": [
    "!az ml data create --name diabetes-dev-dir --type uri_folder --path experimentation/data\n",
    "!az ml data create --name diabetes-dev-table --type mltable --path experimentation/data"
   ]
  },
  {
   "attachments": {},
   "cell_type": "markdown",
   "metadata": {},
   "source": [
    "## 1: Create an ML job"
   ]
  },
  {
   "cell_type": "code",
   "execution_count": null,
   "metadata": {},
   "outputs": [],
   "source": [
    "!az ml job create --file job.yml"
   ]
  },
  {
   "attachments": {},
   "cell_type": "markdown",
   "metadata": {},
   "source": [
    "## 2: Use GH Actions for model training"
   ]
  },
  {
   "attachments": {},
   "cell_type": "markdown",
   "metadata": {},
   "source": [
    "### 2.1: Create Service Principal\n",
    "\n",
    "The command below registers an app with *contributor* role and access to these resources:\n",
    "* *mlops* ML workspace\n",
    "* *learn-mlops* ML registry"
   ]
  },
  {
   "cell_type": "code",
   "execution_count": null,
   "metadata": {},
   "outputs": [],
   "source": [
    "!az ad sp create-for-rbac \\\n",
    "    --name github-aml-sp \\\n",
    "    --role contributor \\\n",
    "    --scopes \\\n",
    "        /subscriptions/b42b69cf-27c0-4ee2-99a0-a718ebd91945/resourceGroups/learn/providers/Microsoft.MachineLearningServices/workspaces/mlops \\\n",
    "        /subscriptions/b42b69cf-27c0-4ee2-99a0-a718ebd91945/resourceGroups/DefaultResourceGroup-eastus2/providers/Microsoft.MachineLearningServices/registries/learn-mlops \\\n",
    "    --sdk-auth"
   ]
  },
  {
   "attachments": {},
   "cell_type": "markdown",
   "metadata": {},
   "source": [
    "> IMPORTANT: do not commit the output of this command!"
   ]
  },
  {
   "attachments": {},
   "cell_type": "markdown",
   "metadata": {},
   "source": [
    "### 2.2: Create GitHub Action Secret\n",
    "\n",
    "* [mslearn-mlops settings] > Secrets and variables > Actions > New repository secret\n",
    "* Name: **AZURE_CREDENTIALS**\n",
    "* Secret: [**\\<output from the previous command\\>**](#2.1:-create-service-principal)"
   ]
  },
  {
   "cell_type": "markdown",
   "metadata": {},
   "source": []
  },
  {
   "attachments": {},
   "cell_type": "markdown",
   "metadata": {},
   "source": [
    "\n",
    "### 2.3: Create Compute cluster\n",
    "\n",
    "TODO: create with `azure-cli`, right now check the [README](../README.md#23-create-compute-cluster)"
   ]
  },
  {
   "cell_type": "markdown",
   "metadata": {},
   "source": [
    "\n",
    "### 2.4: Run GH Action manually\n",
    "\n",
    "* [mslearn-mlops action](https://github.com/ficinator/mslearn-mlops/actions/workflows/02-manual-trigger-job.yml) > Run workflow > hopefully it runs"
   ]
  },
  {
   "attachments": {},
   "cell_type": "markdown",
   "metadata": {},
   "source": [
    "## 3: Trigger workflow on PR"
   ]
  },
  {
   "cell_type": "code",
   "execution_count": null,
   "metadata": {},
   "outputs": [],
   "source": [
    "%%writefile ../.github/workflows/03-trigger-ml-job-pr.yml\n",
    "name: Trigger AML job on PR\n",
    "\n",
    "on: [pull_request]\n",
    "\n",
    "jobs:\n",
    "  deploy:\n",
    "    runs-on: ubuntu-latest\n",
    "    steps:\n",
    "    - name: Check out repo\n",
    "      uses: actions/checkout@main\n",
    "    - name: Azure login\n",
    "      uses: azure/login@v1\n",
    "      with:\n",
    "        creds: ${{secrets.AZURE_CREDENTIALS}}\n",
    "    - name: Set up azure-cli\n",
    "      run: |\n",
    "        az extension add -n ml -y\n",
    "        az configure --defaults workspace=mlops group=learn\n",
    "    - name: Create endpoint\n",
    "      run: az ml job create --file job.yml"
   ]
  },
  {
   "attachments": {},
   "cell_type": "markdown",
   "metadata": {},
   "source": [
    "## 4: Trigger linting and unit testing on PR"
   ]
  },
  {
   "attachments": {},
   "cell_type": "markdown",
   "metadata": {},
   "source": [
    "### 4.1: Python linting in vs code\n",
    "\n",
    "TODO..."
   ]
  },
  {
   "attachments": {},
   "cell_type": "markdown",
   "metadata": {},
   "source": [
    "### 4.2: Update code checks workflow"
   ]
  },
  {
   "cell_type": "code",
   "execution_count": null,
   "metadata": {},
   "outputs": [],
   "source": [
    "%%writefile ../.github/workflows/04-code-checks.yml\n",
    "name: Code checks\n",
    "\n",
    "on: [pull_request]\n",
    "\n",
    "jobs:\n",
    "  linting:\n",
    "    runs-on: ubuntu-latest\n",
    "    steps:\n",
    "    - name: Check out repo\n",
    "      uses: actions/checkout@main\n",
    "    - name: Use Python version 3.8\n",
    "      uses: actions/setup-python@v3\n",
    "      with:\n",
    "        python-version: '3.8'\n",
    "    - name: Install Flake8\n",
    "      run: |\n",
    "        python -m pip install flake8\n",
    "    - name: Run linting tests\n",
    "      run: | \n",
    "        flake8 \\\n",
    "          --max-line-length=88 \\\n",
    "          --extend-ignore=E203 \\\n",
    "          src \\\n",
    "          tests\n",
    "\n",
    "  unit-tests:\n",
    "    runs-on: ubuntu-latest\n",
    "    steps:\n",
    "    - name: Check out repo\n",
    "      uses: actions/checkout@main\n",
    "    - name: Use Python version 3.8\n",
    "      uses: actions/setup-python@v3\n",
    "      with:\n",
    "        python-version: '3.8'\n",
    "    - name: Install requirements\n",
    "      run: |\n",
    "        python -m pip install -r requirements.txt\n",
    "    - name: Run unit tests\n",
    "      run: |\n",
    "        pytest\n"
   ]
  },
  {
   "attachments": {},
   "cell_type": "markdown",
   "metadata": {},
   "source": [
    "## 5: Use environments\n",
    "\n",
    "Term *environment* appears all over the place in different contexts:\n",
    "* **GitHub environment**: a set of protection rules, variables and secrets\n",
    "* **Azure environment**: = resource group\n",
    "* **Azure ML workspace**: a place to run experiments, train and deploy models\n",
    "* **Azure ML environment**: a collection of python packages to run a script   "
   ]
  },
  {
   "attachments": {},
   "cell_type": "markdown",
   "metadata": {},
   "source": [
    "### 5.1: Create a GitHub environment\n",
    "\n",
    "Check the corresponding section in [README](../README.md#51-create-an-environment)."
   ]
  },
  {
   "attachments": {},
   "cell_type": "markdown",
   "metadata": {},
   "source": [
    "### 5.2: Create data asset and training component"
   ]
  },
  {
   "cell_type": "code",
   "execution_count": null,
   "metadata": {},
   "outputs": [],
   "source": [
    "!mkdir -p data components"
   ]
  },
  {
   "cell_type": "code",
   "execution_count": null,
   "metadata": {},
   "outputs": [],
   "source": [
    "%%writefile data/diabetes-prod.yml\n",
    "$schema: https://azuremlschemas.azureedge.net/latest/data.schema.json\n",
    "name: diabetes-prod-folder\n",
    "type: uri_folder\n",
    "path: ../production/data"
   ]
  },
  {
   "cell_type": "code",
   "execution_count": null,
   "metadata": {},
   "outputs": [],
   "source": [
    "!az ml data create --file data/diabetes-prod.yml --workspace learn-prod"
   ]
  },
  {
   "cell_type": "code",
   "execution_count": null,
   "metadata": {},
   "outputs": [],
   "source": [
    "%%writefile components/train.yml\n",
    "$schema: https://azuremlschemas.azureedge.net/latest/commandComponent.schema.json\n",
    "type: command\n",
    "\n",
    "name: train_diabetes_model\n",
    "display_name: Train Diabetes Classification Model\n",
    "\n",
    "environment: azureml:AzureML-sklearn-1.0-ubuntu20.04-py38-cpu@latest\n",
    "\n",
    "inputs:\n",
    "  training_data:\n",
    "    type: uri_folder\n",
    "  reg_rate:\n",
    "    type: number\n",
    "\n",
    "code: ../model\n",
    "command: >-\n",
    "  python train.py\n",
    "  --training_data ${{inputs.training_data}}\n",
    "  --reg_rate ${{inputs.reg_rate}}"
   ]
  },
  {
   "cell_type": "code",
   "execution_count": null,
   "metadata": {},
   "outputs": [],
   "source": [
    "!az ml component create --file components/train.yml"
   ]
  },
  {
   "attachments": {},
   "cell_type": "markdown",
   "metadata": {},
   "source": [
    "### 5.3: Create production pipeline job"
   ]
  },
  {
   "cell_type": "code",
   "execution_count": null,
   "metadata": {},
   "outputs": [],
   "source": [
    "!mkdir -p jobs"
   ]
  },
  {
   "cell_type": "code",
   "execution_count": null,
   "metadata": {},
   "outputs": [],
   "source": [
    "%%writefile jobs/pipeline-prod.yml\n",
    "$schema: https://azuremlschemas.azureedge.net/latest/pipelineJob.schema.json\n",
    "type: pipeline\n",
    "\n",
    "inputs:\n",
    "  training_data: \n",
    "    path: azureml:diabetes-prod-folder:1\n",
    "    mode: ro_mount\n",
    "  reg_rate: 0.01\n",
    "\n",
    "jobs:\n",
    "  train:\n",
    "    component: components/train.yml\n",
    "    inputs:\n",
    "        training_data: ${{parent.inputs.training_data}}\n",
    "        reg_rate: ${{parent.inputs.reg_rate}}\n",
    "\n",
    "compute: azureml:cheapest-cluster\n",
    "experiment_name: diabetes-prod-data-example\n",
    "description: Train a classification model on diabetes data using a registered dataset as input.\n"
   ]
  },
  {
   "cell_type": "code",
   "execution_count": null,
   "metadata": {},
   "outputs": [],
   "source": [
    "!az ml job create --file jobs/pipeline-prod.yml --workspace learn-prod"
   ]
  },
  {
   "attachments": {},
   "cell_type": "markdown",
   "metadata": {},
   "source": [
    "## 6: Deploy the model\n",
    "\n",
    "TODO"
   ]
  },
  {
   "attachments": {},
   "cell_type": "markdown",
   "metadata": {},
   "source": [
    "# 7: Use registry to share ML resources"
   ]
  },
  {
   "attachments": {},
   "cell_type": "markdown",
   "metadata": {},
   "source": [
    "## 7.1: Create a registry\n",
    "\n",
    "* [Azure ML](https://ml.azure.com/home?tid=6571d690-b42e-4b19-90e7-d85b945aa165) > Registries > + Create\n",
    "* Name: **learn-mlops**\n",
    "* Subscription: **Azure subscription 1**\n",
    "* Resource group: **DefaultResourceGroup-eastus2**\n",
    "* Next\n",
    "* Primary region: **East US 2**\n",
    "* Additional regions (optional): **Germany West Central**\n",
    "* Next > Create > wait for it..."
   ]
  },
  {
   "attachments": {},
   "cell_type": "markdown",
   "metadata": {},
   "source": [
    "## 7.2: Add a component to the registry\n",
    "\n",
    "Use the component from [5.2](#52-create-data-asset-and-training-component)."
   ]
  },
  {
   "cell_type": "code",
   "execution_count": null,
   "metadata": {},
   "outputs": [],
   "source": [
    "!az ml component create --file components/train.yml --registry-name learn-mlops"
   ]
  },
  {
   "attachments": {},
   "cell_type": "markdown",
   "metadata": {},
   "source": [
    "### 7.3: Use the component in the pipeline job"
   ]
  },
  {
   "cell_type": "code",
   "execution_count": null,
   "metadata": {},
   "outputs": [],
   "source": [
    "%%writefile jobs/pipeline-prod.yml\n",
    "$schema: https://azuremlschemas.azureedge.net/latest/pipelineJob.schema.json\n",
    "type: pipeline\n",
    "\n",
    "inputs:\n",
    "  training_data: \n",
    "    path: azureml:diabetes-prod-folder:1\n",
    "    mode: ro_mount\n",
    "  reg_rate: 0.01\n",
    "\n",
    "jobs:\n",
    "  train:\n",
    "    component: azureml://registries/learn-mlops/components/train_diabetes_model/versions/1\n",
    "    inputs:\n",
    "        training_data: ${{parent.inputs.training_data}}\n",
    "        reg_rate: ${{parent.inputs.reg_rate}}\n",
    "    compute: azureml:cheapest-cluster\n",
    "\n",
    "experiment_name: diabetes-prod-data-example\n",
    "description: Train a classification model on diabetes data using a registered dataset as input.\n"
   ]
  },
  {
   "cell_type": "code",
   "execution_count": null,
   "metadata": {},
   "outputs": [],
   "source": [
    "!az ml job create --file jobs/pipeline-prod.yml --workspace learn-prod"
   ]
  },
  {
   "attachments": {},
   "cell_type": "markdown",
   "metadata": {},
   "source": [
    "## 7.4: Create a GitHub Action workflow"
   ]
  },
  {
   "cell_type": "code",
   "execution_count": null,
   "metadata": {},
   "outputs": [],
   "source": [
    "%%writefile ../.github/workflows/07-train-dev-prod.yml\n",
    "name: Train dev and prod\n",
    "\n",
    "on:\n",
    "  push:\n",
    "    branches:\n",
    "    - main\n",
    "\n",
    "jobs:\n",
    "  experiment:\n",
    "    runs-on: ubuntu-latest\n",
    "    environment: dev\n",
    "    steps:\n",
    "    - name: Check out repo\n",
    "      uses: actions/checkout@main\n",
    "    - name: Azure login\n",
    "      uses: azure/login@v1\n",
    "      with:\n",
    "        creds: ${{secrets.AZURE_CREDENTIALS}}\n",
    "    - name: Set up azure-cli\n",
    "      run: |\n",
    "        az extension add -n ml -y\n",
    "        az configure --defaults workspace=mlops group=learn\n",
    "    - name: Trigger ML job\n",
    "      run: |\n",
    "        az ml job create \\\n",
    "        --file src/jobs/pipeline-dev.yml \\\n",
    "        --stream\n",
    "\n",
    "  production:\n",
    "    runs-on: ubuntu-latest\n",
    "    environment: prod\n",
    "    needs: experiment\n",
    "    steps:\n",
    "    - name: Check out repo\n",
    "      uses: actions/checkout@main\n",
    "    - name: Azure login\n",
    "      uses: azure/login@v1\n",
    "      with:\n",
    "        creds: ${{secrets.AZURE_CREDENTIALS}}\n",
    "\n",
    "    - name: Set up azure-cli\n",
    "      run: |\n",
    "        az extension add -n ml -y\n",
    "        az configure --defaults workspace=learn-prod group=learn\n",
    "    - name: Trigger ML job\n",
    "      run: |\n",
    "        az ml job create \\\n",
    "        --file src/jobs/pipeline-prod.yml \\\n",
    "        --stream"
   ]
  },
  {
   "cell_type": "markdown",
   "metadata": {},
   "source": []
  }
 ],
 "metadata": {
  "kernelspec": {
   "display_name": ".venv",
   "language": "python",
   "name": "python3"
  },
  "language_info": {
   "codemirror_mode": {
    "name": "ipython",
    "version": 3
   },
   "file_extension": ".py",
   "mimetype": "text/x-python",
   "name": "python",
   "nbconvert_exporter": "python",
   "pygments_lexer": "ipython3",
   "version": "3.10.6"
  },
  "orig_nbformat": 4,
  "vscode": {
   "interpreter": {
    "hash": "22508f1159233121b17e46736bbaf627a771da9950b6bc0273c6b30a2cf8e4ec"
   }
  }
 },
 "nbformat": 4,
 "nbformat_minor": 2
}
